{
  "nbformat": 4,
  "nbformat_minor": 0,
  "metadata": {
    "colab": {
      "name": "Tri_TestRank_Text_Summarization.ipynb",
      "provenance": [],
      "collapsed_sections": []
    },
    "kernelspec": {
      "name": "python3",
      "display_name": "Python 3"
    },
    "accelerator": "GPU"
  },
  "cells": [
    {
      "cell_type": "markdown",
      "metadata": {
        "id": "view-in-github"
      },
      "source": [
        "<a href=\"https://colab.research.google.com/github/prateekjoshi565/textrank_text_summarization/blob/master/TestRank_Text_Summarization.ipynb\" target=\"_parent\"><img src=\"https://colab.research.google.com/assets/colab-badge.svg\" alt=\"Open In Colab\"/></a>"
      ]
    },
    {
      "cell_type": "code",
      "metadata": {
        "id": "WeptlGXN2MnF",
        "colab": {
          "base_uri": "https://localhost:8080/"
        },
        "outputId": "a67f2c26-b4b9-4229-f5df-9a012935681c"
      },
      "source": [
        "import numpy as np\n",
        "import pandas as pd\n",
        "import nltk\n",
        "from nltk.tokenize import sent_tokenize\n",
        "nltk.download('punkt') # one time execution\n",
        "import re"
      ],
      "execution_count": 1,
      "outputs": [
        {
          "output_type": "stream",
          "name": "stdout",
          "text": [
            "[nltk_data] Downloading package punkt to /root/nltk_data...\n",
            "[nltk_data]   Unzipping tokenizers/punkt.zip.\n"
          ]
        }
      ]
    },
    {
      "cell_type": "code",
      "metadata": {
        "id": "3_GCCIaj7ulj"
      },
      "source": [
        "%%capture\n",
        "\n",
        "!wget 'https://github.com/ThanhChinhBK/vietnews/archive/master.zip'\n",
        "!unzip 'master.zip'"
      ],
      "execution_count": 2,
      "outputs": []
    },
    {
      "cell_type": "code",
      "metadata": {
        "id": "YzywNFmeKVgx"
      },
      "source": [
        "%%capture\n",
        "# Install the vncorenlp python wrapper\n",
        "!pip install vncorenlp\n",
        "# Download VnCoreNLP-1.1.1.jar & its word segmentation component (i.e. RDRSegmenter) \n",
        "!mkdir -p vncorenlp/models/wordsegmenter\n",
        "!wget https://raw.githubusercontent.com/vncorenlp/VnCoreNLP/master/VnCoreNLP-1.1.1.jar\n",
        "!wget https://raw.githubusercontent.com/vncorenlp/VnCoreNLP/master/models/wordsegmenter/vi-vocab\n",
        "!wget https://raw.githubusercontent.com/vncorenlp/VnCoreNLP/master/models/wordsegmenter/wordsegmenter.rdr\n",
        "!mv VnCoreNLP-1.1.1.jar vncorenlp/ \n",
        "!mv vi-vocab vncorenlp/models/wordsegmenter/\n",
        "!mv wordsegmenter.rdr vncorenlp/models/wordsegmenter/\n",
        "!pip install datasets==1.0.2"
      ],
      "execution_count": 3,
      "outputs": []
    },
    {
      "cell_type": "code",
      "metadata": {
        "id": "TZYjioRkKviO"
      },
      "source": [
        "import glob\n",
        "import pandas as pd\n",
        "import concurrent.futures\n",
        "from datasets import *"
      ],
      "execution_count": 4,
      "outputs": []
    },
    {
      "cell_type": "code",
      "metadata": {
        "id": "UVkc5HmK6Bdd"
      },
      "source": [
        "def listPaths(path):\n",
        "  pathfiles = list()\n",
        "  for pathfile in glob.glob(path):\n",
        "    pathfiles.append(pathfile)\n",
        "  return pathfiles\n",
        "\n",
        "train_paths = listPaths('/content/vietnews-master/data/train_tokenized/*')\n",
        "val_paths = listPaths('/content/vietnews-master/data/val_tokenized/*')\n",
        "test_paths = listPaths('/content/vietnews-master/data/test_tokenized/*')"
      ],
      "execution_count": 70,
      "outputs": []
    },
    {
      "cell_type": "code",
      "metadata": {
        "id": "YZ8pgIYN7zSW"
      },
      "source": [
        "def read_content(pathfile):\n",
        "  \"\"\"\n",
        "  Input: Path of txt file\n",
        "  Output: A dictionary has keys 'original' and 'summary'\n",
        "  \"\"\"\n",
        "  with open(pathfile) as f:\n",
        "    rows  = f.readlines()\n",
        "    original = ' '.join(''.join(rows[4:]).split('\\n'))\n",
        "    summary = ' '.join(rows[2].split('\\n'))\n",
        "          \n",
        "  return {'file' : pathfile,\n",
        "          'original': original, \n",
        "          'summary': summary}"
      ],
      "execution_count": 71,
      "outputs": []
    },
    {
      "cell_type": "code",
      "metadata": {
        "colab": {
          "base_uri": "https://localhost:8080/"
        },
        "id": "_716GF2iDTcD",
        "outputId": "3ca55597-8423-44c7-c660-5b65e6779f46"
      },
      "source": [
        "read_content(train_paths[0])"
      ],
      "execution_count": 72,
      "outputs": [
        {
          "output_type": "execute_result",
          "data": {
            "text/plain": [
              "{'file': '/content/vietnews-master/data/train_tokenized/035473.txt.seg',\n",
              " 'original': 'Một người_dân từng sống ở khu_vực Moon_Bay_Circle , Wellington thuộc hạt Palm_Beach của bang Florida hồi giữa tháng 8 kiểm_tra hình_ảnh vệ_tinh trên Google_Maps và tình_cờ phát_hiện một chiếc ô_tô bị chìm trong hồ nước tại đó . Người này thông_báo cho một cư_dân đang sống tại Moon_Bay_Circle để kiểm_tra . Sau khi dùng flycam để chắc_chắn đó là một chiếc ôtô bị chìm dưới hồ , người này gọi điện_báo nhà_chức_trách , sở cảnh_sát hạt Palm_Beach hôm 12/9 cho_hay . Cảnh_sát ngày 28/8 tới hồ nước trục_vớt chiếc xe và tìm thấy một hài_cốt bên trong . Một tuần sau , hài_cốt được xác_định là của William_Moldt , người mất_tích từ năm 1997 . Theo Charley_Project , một cơ_sở_dữ_liệu trực_tuyến về các trường_hợp mất_tích ở Mỹ , Google_Maps đã chụp ảnh chiếc xe bị chìm dưới hồ này từ năm 2007 , nhưng dường_như không ai nhận_ra nó trong hơn 10 năm qua . Ảnh vệ_tinh cho thấy rõ hình_dạng chiếc ôtô trong lòng hồ ở Palm_Beach , Florida . Moldt , 40 tuổi , mất_tích sau khi uống rượu tại một hộp đêm vào khuya 7/11/1997 . Ông được mô_tả là một người trầm_tính , không giao_tiếp nhiều và không hay say_xỉn . Moldt có gọi cho bạn gái vào đêm mất_tích và nói với cô rằng anh sẽ về nhà sớm . Cảnh_sát suy_đoán Moldt có_thể đã mất kiểm_soát và lao xuống hồ khi lái_xe ban_đêm , nhưng chưa đưa ra kết_luận cuối_cùng . \" Không_thể xác_định những gì đã xảy ra cách đây nhiều năm . Tất_cả những gì chúng_ta biết là anh ấy mất_tích và hài_cốt của anh ta giờ được phát_hiện \" , phát_ngôn_viên cảnh_sát Palm_Beach_Theresa_Barbera nói . Gia_đình Moldt hiện đã được thông_báo về hài_cốt của ông . Mai_Lâm ( Theo BBC )   Ảnh vệ_tinh cho thấy rõ hình_dạng chiếc ôtô trong lòng hồ ở Palm_Beach , Florida . Vị_trí Wellington và Palm_Beach trên bản_đồ . Đồ_hoạ : BBC . ',\n",
              " 'summary': 'Cảnh_sát tìm thấy người đàn_ông mất_tích 22 năm trước trong chiếc ôtô chìm dưới hồ ở bang Florida nhờ ảnh vệ_tinh . '}"
            ]
          },
          "metadata": {},
          "execution_count": 72
        }
      ]
    },
    {
      "cell_type": "code",
      "metadata": {
        "id": "Wm5kLJD_840E"
      },
      "source": [
        "def get_dataframe(pathfiles):\n",
        "  with concurrent.futures.ProcessPoolExecutor() as executor:\n",
        "    data = executor.map(read_content, pathfiles)\n",
        "  \n",
        "  # Make blank dataframe\n",
        "  data_df = list()\n",
        "  for d in data:\n",
        "    data_df.append(d)\n",
        "  data_df = pd.DataFrame(data_df)\n",
        "  data_df.dropna(inplace = True)\n",
        "  data_df = data_df.sample(frac=1).reset_index(drop=True)\n",
        "\n",
        "  return data_df"
      ],
      "execution_count": 73,
      "outputs": []
    },
    {
      "cell_type": "code",
      "metadata": {
        "id": "d4c0pl5BAl3f"
      },
      "source": [
        "train_df = get_dataframe(train_paths)"
      ],
      "execution_count": 74,
      "outputs": []
    },
    {
      "cell_type": "code",
      "metadata": {
        "id": "DgMgMnisA0cf"
      },
      "source": [
        "test_df = get_dataframe(test_paths)"
      ],
      "execution_count": 75,
      "outputs": []
    },
    {
      "cell_type": "code",
      "metadata": {
        "colab": {
          "base_uri": "https://localhost:8080/",
          "height": 110
        },
        "id": "awhK3KmvvQQY",
        "outputId": "cd298b64-9991-4544-f5b6-d9e1b94b63ec"
      },
      "source": [
        "train_df.head(2)"
      ],
      "execution_count": 76,
      "outputs": [
        {
          "output_type": "execute_result",
          "data": {
            "text/html": [
              "<div>\n",
              "<style scoped>\n",
              "    .dataframe tbody tr th:only-of-type {\n",
              "        vertical-align: middle;\n",
              "    }\n",
              "\n",
              "    .dataframe tbody tr th {\n",
              "        vertical-align: top;\n",
              "    }\n",
              "\n",
              "    .dataframe thead th {\n",
              "        text-align: right;\n",
              "    }\n",
              "</style>\n",
              "<table border=\"1\" class=\"dataframe\">\n",
              "  <thead>\n",
              "    <tr style=\"text-align: right;\">\n",
              "      <th></th>\n",
              "      <th>file</th>\n",
              "      <th>original</th>\n",
              "      <th>summary</th>\n",
              "    </tr>\n",
              "  </thead>\n",
              "  <tbody>\n",
              "    <tr>\n",
              "      <th>0</th>\n",
              "      <td>/content/vietnews-master/data/train_tokenized/...</td>\n",
              "      <td>Hôn_lễ của Harry , 33 tuổi , và Meghan , 36 tu...</td>\n",
              "      <td>Hoàng tử Anh Harry và nữ diễn viên Mỹ Me...</td>\n",
              "    </tr>\n",
              "    <tr>\n",
              "      <th>1</th>\n",
              "      <td>/content/vietnews-master/data/train_tokenized/...</td>\n",
              "      <td>Phát_biểu tại lễ kỷ_niệm , ông Trịnh_Văn_Chiến...</td>\n",
              "      <td>Tối 8-5 , tại quảng_trường Lam_Sơn , TP Thanh_...</td>\n",
              "    </tr>\n",
              "  </tbody>\n",
              "</table>\n",
              "</div>"
            ],
            "text/plain": [
              "                                                file  ...                                            summary\n",
              "0  /content/vietnews-master/data/train_tokenized/...  ...  Hoàng tử Anh Harry và nữ diễn viên Mỹ Me...\n",
              "1  /content/vietnews-master/data/train_tokenized/...  ...  Tối 8-5 , tại quảng_trường Lam_Sơn , TP Thanh_...\n",
              "\n",
              "[2 rows x 3 columns]"
            ]
          },
          "metadata": {},
          "execution_count": 76
        }
      ]
    },
    {
      "cell_type": "code",
      "metadata": {
        "id": "DSb3vzOlGexT",
        "colab": {
          "base_uri": "https://localhost:8080/",
          "height": 137
        },
        "outputId": "41321039-e204-4ba9-ea3d-09dac7542762"
      },
      "source": [
        "train_df.original[0]"
      ],
      "execution_count": 77,
      "outputs": [
        {
          "output_type": "execute_result",
          "data": {
            "application/vnd.google.colaboratory.intrinsic+json": {
              "type": "string"
            },
            "text/plain": [
              "'Hôn_lễ của Harry , 33 tuổi , và Meghan , 36 tuổi , diễn ra tại lâu_đài Windsor của hoàng_gia Anh , thuộc thị_trấn Windsor , cách thủ_đô London hơn 30 km . Họ đã phá vỡ truyền_thống khi chọn tổ_chức đám_cưới vào cuối tuần , trong khi các đám_cưới trước_đây của hoàng_gia đều diễn ra vào ngày trong tuần , Telegraph cho_hay . Hoàng_tử Harry và hôn thê Meghan_Markle . Ảnh : Kengsington_Palace Đúng 12h trưa ( 18 h giờ Hà_Nội ) , cô_dâu và chú_rể sẽ làm lễ tại nhà_nguyện St_George bên trong lâu đài trước sự chứng_kiến của khoảng 800 khách mời . Do bố của Meghan vừa trải qua ca mổ tim , Thái_tử Charles , bố của Harry , sẽ là người dẫn cô_dâu vào lễ đường . Một tiếng sau , họ sẽ cùng lên cỗ xe_ngựa để tham_gia lễ rước quanh toà nhà và chào dân_chúng . 2.640 khách mời là dân_thường do cặp đôi lựa_chọn kỹ_lưỡng sẽ được chứng_kiến nghi_lễ này từ sân lâu đài , trong đó có hàng trăm cá_nhân đến từ các tổ_chức từ_thiện . Các biện_pháp bảo_vệ an_ninh cho đám_cưới Sau lễ rước , Nữ_hoàng Elizabeth sẽ chủ_trì tiệc trưa để thết_đãi các khách_mời . Vào buổi tối , một bữa tiệc cưới mang tính riêng_tư hơn sẽ diễn ra chỉ dành cho 200 người là bạn_bè thân_thiết và gia_đình của cô_dâu , chú_rể tại Frogmore_House . Lễ cưới của Hoàng_tử Harry được đánh_giá sẽ là cú hích cho nền kinh_tế Anh và ước_tính thu về 500 triệu bảng ( 670 triệu USD ) . Người_dân tập_trung bên ngoài lâu đài Windsor chờ đón hôn_lễ hoàng_gia . Ảnh : WireImage Hoàng_tử Anh và hôn thê quen nhau qua một người bạn chung và nhanh_chóng trúng tiếng sét ái_tình . Họ công_bố đính_hôn vào tháng 11 năm_ngoái và đã dành 6 tháng để chuẩn_bị cho ngày trọng_đại này . Sau hôn_lễ , hai người sẽ không đi trăng_mật mà có ba ngày nghỉ_ngơi trước khi tham_gia các hoạt_động của hoàng_gia Anh . Chuyện tình cổ_tích giữa Hoàng_tử Harry và hôn thê Markle . Anh Ngọc   Hoàng_tử Harry và hôn thê Meghan_Markle . '"
            ]
          },
          "metadata": {},
          "execution_count": 77
        }
      ]
    },
    {
      "cell_type": "code",
      "metadata": {
        "id": "eZVoc3R6G9a8"
      },
      "source": [
        "# split the the text in the articles into sentences\n",
        "sentences = []\n",
        "for s in train_df.original.head(2):\n",
        "  sentences.append(sent_tokenize(s))  "
      ],
      "execution_count": 82,
      "outputs": []
    },
    {
      "cell_type": "code",
      "metadata": {
        "id": "DvaUFkbkd_BW"
      },
      "source": [
        "sentences"
      ],
      "execution_count": null,
      "outputs": []
    },
    {
      "cell_type": "code",
      "metadata": {
        "id": "V_lwimHsHB9l"
      },
      "source": [
        "# bỏ qua cái này \n",
        "# flatten the list\n",
        "# sentences = [y for x in sentences[0] for y in x]"
      ],
      "execution_count": 80,
      "outputs": []
    },
    {
      "cell_type": "code",
      "metadata": {
        "colab": {
          "base_uri": "https://localhost:8080/"
        },
        "id": "mufCmsfZGniU",
        "outputId": "8c9fafa8-ba08-439e-a022-2c0ca3fc8860"
      },
      "source": [
        "sentences[0]"
      ],
      "execution_count": 84,
      "outputs": [
        {
          "output_type": "execute_result",
          "data": {
            "text/plain": [
              "['Hôn_lễ của Harry , 33 tuổi , và Meghan , 36 tuổi , diễn ra tại lâu_đài Windsor của hoàng_gia Anh , thuộc thị_trấn Windsor , cách thủ_đô London hơn 30 km .',\n",
              " 'Họ đã phá vỡ truyền_thống khi chọn tổ_chức đám_cưới vào cuối tuần , trong khi các đám_cưới trước_đây của hoàng_gia đều diễn ra vào ngày trong tuần , Telegraph cho_hay .',\n",
              " 'Hoàng_tử Harry và hôn thê Meghan_Markle .',\n",
              " 'Ảnh : Kengsington_Palace Đúng 12h trưa ( 18 h giờ Hà_Nội ) , cô_dâu và chú_rể sẽ làm lễ tại nhà_nguyện St_George bên trong lâu đài trước sự chứng_kiến của khoảng 800 khách mời .',\n",
              " 'Do bố của Meghan vừa trải qua ca mổ tim , Thái_tử Charles , bố của Harry , sẽ là người dẫn cô_dâu vào lễ đường .',\n",
              " 'Một tiếng sau , họ sẽ cùng lên cỗ xe_ngựa để tham_gia lễ rước quanh toà nhà và chào dân_chúng .',\n",
              " '2.640 khách mời là dân_thường do cặp đôi lựa_chọn kỹ_lưỡng sẽ được chứng_kiến nghi_lễ này từ sân lâu đài , trong đó có hàng trăm cá_nhân đến từ các tổ_chức từ_thiện .',\n",
              " 'Các biện_pháp bảo_vệ an_ninh cho đám_cưới Sau lễ rước , Nữ_hoàng Elizabeth sẽ chủ_trì tiệc trưa để thết_đãi các khách_mời .',\n",
              " 'Vào buổi tối , một bữa tiệc cưới mang tính riêng_tư hơn sẽ diễn ra chỉ dành cho 200 người là bạn_bè thân_thiết và gia_đình của cô_dâu , chú_rể tại Frogmore_House .',\n",
              " 'Lễ cưới của Hoàng_tử Harry được đánh_giá sẽ là cú hích cho nền kinh_tế Anh và ước_tính thu về 500 triệu bảng ( 670 triệu USD ) .',\n",
              " 'Người_dân tập_trung bên ngoài lâu đài Windsor chờ đón hôn_lễ hoàng_gia .',\n",
              " 'Ảnh : WireImage Hoàng_tử Anh và hôn thê quen nhau qua một người bạn chung và nhanh_chóng trúng tiếng sét ái_tình .',\n",
              " 'Họ công_bố đính_hôn vào tháng 11 năm_ngoái và đã dành 6 tháng để chuẩn_bị cho ngày trọng_đại này .',\n",
              " 'Sau hôn_lễ , hai người sẽ không đi trăng_mật mà có ba ngày nghỉ_ngơi trước khi tham_gia các hoạt_động của hoàng_gia Anh .',\n",
              " 'Chuyện tình cổ_tích giữa Hoàng_tử Harry và hôn thê Markle .',\n",
              " 'Anh Ngọc   Hoàng_tử Harry và hôn thê Meghan_Markle .']"
            ]
          },
          "metadata": {},
          "execution_count": 84
        }
      ]
    },
    {
      "cell_type": "code",
      "metadata": {
        "id": "iHvW8lKFHV1x"
      },
      "source": [
        "# remove punctuations, numbers and special characters\n",
        "clean_sentences = pd.Series(sentences[0]).str.replace(\"[^a-zA-Z]\", \" \")\n",
        "\n",
        "# make alphabets lowercase\n",
        "clean_sentences = [s.lower() for s in clean_sentences]"
      ],
      "execution_count": 85,
      "outputs": []
    },
    {
      "cell_type": "code",
      "metadata": {
        "id": "iPBZsdeWHlHf",
        "colab": {
          "base_uri": "https://localhost:8080/"
        },
        "outputId": "e25bb7ac-4f03-426a-bba8-08eebecd032b"
      },
      "source": [
        "nltk.download('stopwords')# one time execution"
      ],
      "execution_count": null,
      "outputs": [
        {
          "output_type": "stream",
          "name": "stdout",
          "text": [
            "[nltk_data] Downloading package stopwords to /root/nltk_data...\n",
            "[nltk_data]   Package stopwords is already up-to-date!\n"
          ]
        },
        {
          "output_type": "execute_result",
          "data": {
            "text/plain": [
              "True"
            ]
          },
          "metadata": {},
          "execution_count": 39
        }
      ]
    },
    {
      "cell_type": "code",
      "metadata": {
        "id": "a5Skjq6DJUtQ",
        "colab": {
          "base_uri": "https://localhost:8080/"
        },
        "outputId": "51f25832-6d8a-4c6a-8f4c-8bde56ab0bc3"
      },
      "source": [
        "# download pretrained GloVe word embeddings\n",
        "! wget http://nlp.stanford.edu/data/glove.6B.zip"
      ],
      "execution_count": 20,
      "outputs": [
        {
          "output_type": "stream",
          "name": "stdout",
          "text": [
            "--2021-11-17 05:33:24--  http://nlp.stanford.edu/data/glove.6B.zip\n",
            "Resolving nlp.stanford.edu (nlp.stanford.edu)... 171.64.67.140\n",
            "Connecting to nlp.stanford.edu (nlp.stanford.edu)|171.64.67.140|:80... connected.\n",
            "HTTP request sent, awaiting response... 302 Found\n",
            "Location: https://nlp.stanford.edu/data/glove.6B.zip [following]\n",
            "--2021-11-17 05:33:24--  https://nlp.stanford.edu/data/glove.6B.zip\n",
            "Connecting to nlp.stanford.edu (nlp.stanford.edu)|171.64.67.140|:443... connected.\n",
            "HTTP request sent, awaiting response... 301 Moved Permanently\n",
            "Location: http://downloads.cs.stanford.edu/nlp/data/glove.6B.zip [following]\n",
            "--2021-11-17 05:33:24--  http://downloads.cs.stanford.edu/nlp/data/glove.6B.zip\n",
            "Resolving downloads.cs.stanford.edu (downloads.cs.stanford.edu)... 171.64.64.22\n",
            "Connecting to downloads.cs.stanford.edu (downloads.cs.stanford.edu)|171.64.64.22|:80... connected.\n",
            "HTTP request sent, awaiting response... 200 OK\n",
            "Length: 862182613 (822M) [application/zip]\n",
            "Saving to: ‘glove.6B.zip’\n",
            "\n",
            "glove.6B.zip        100%[===================>] 822.24M  5.13MB/s    in 2m 40s  \n",
            "\n",
            "2021-11-17 05:36:04 (5.14 MB/s) - ‘glove.6B.zip’ saved [862182613/862182613]\n",
            "\n"
          ]
        }
      ]
    },
    {
      "cell_type": "markdown",
      "metadata": {
        "id": "G81j8ZSo6awx"
      },
      "source": [
        "## word to vec"
      ]
    },
    {
      "cell_type": "code",
      "metadata": {
        "id": "K_GXHzwDJq-2",
        "colab": {
          "base_uri": "https://localhost:8080/"
        },
        "outputId": "4deb407d-b947-4d68-9f81-dfa91bf2e9ea"
      },
      "source": [
        "! unzip glove*.zip"
      ],
      "execution_count": 21,
      "outputs": [
        {
          "output_type": "stream",
          "name": "stdout",
          "text": [
            "Archive:  glove.6B.zip\n",
            "  inflating: glove.6B.50d.txt        \n",
            "  inflating: glove.6B.100d.txt       \n",
            "  inflating: glove.6B.200d.txt       \n",
            "  inflating: glove.6B.300d.txt       \n"
          ]
        }
      ]
    },
    {
      "cell_type": "code",
      "metadata": {
        "id": "TsXIa7CBKsWQ"
      },
      "source": [
        "# Extract word vectors\n",
        "word_embeddings = {}\n",
        "f = open('glove.6B.100d.txt', encoding='utf-8')\n",
        "for line in f:\n",
        "    values = line.split()\n",
        "    word = values[0]\n",
        "    coefs = np.asarray(values[1:], dtype='float32')\n",
        "    word_embeddings[word] = coefs\n",
        "f.close()"
      ],
      "execution_count": 86,
      "outputs": []
    },
    {
      "cell_type": "code",
      "metadata": {
        "id": "tG28nY1OYyo4"
      },
      "source": [
        ""
      ],
      "execution_count": null,
      "outputs": []
    },
    {
      "cell_type": "code",
      "metadata": {
        "id": "N3VtdSPyKxUZ"
      },
      "source": [
        "sentence_vectors = []\n",
        "for i in clean_sentences:\n",
        "  if len(i) != 0:\n",
        "    v = sum([word_embeddings.get(w, np.zeros((100,))) for w in i.split()])/(len(i.split())+0.001)\n",
        "  else:\n",
        "    v = np.zeros((100,))\n",
        "  sentence_vectors.append(v)"
      ],
      "execution_count": 87,
      "outputs": []
    },
    {
      "cell_type": "code",
      "metadata": {
        "id": "e3Iww3I9LYhJ",
        "colab": {
          "base_uri": "https://localhost:8080/"
        },
        "outputId": "434920be-1118-4f07-ac40-1b5fe5cb2e6d"
      },
      "source": [
        "len(sentence_vectors)"
      ],
      "execution_count": 88,
      "outputs": [
        {
          "output_type": "execute_result",
          "data": {
            "text/plain": [
              "16"
            ]
          },
          "metadata": {},
          "execution_count": 88
        }
      ]
    },
    {
      "cell_type": "markdown",
      "metadata": {
        "id": "J-D0Anko6efw"
      },
      "source": [
        "## word to vec (vietnamese)"
      ]
    },
    {
      "cell_type": "code",
      "metadata": {
        "colab": {
          "base_uri": "https://localhost:8080/"
        },
        "id": "79TKWhrMW0BG",
        "outputId": "3567bdf8-ba81-432c-8dc5-851563932d19"
      },
      "source": [
        "pip install pyvi"
      ],
      "execution_count": 25,
      "outputs": [
        {
          "output_type": "stream",
          "name": "stdout",
          "text": [
            "Collecting pyvi\n",
            "  Downloading pyvi-0.1.1-py2.py3-none-any.whl (8.5 MB)\n",
            "\u001b[K     |████████████████████████████████| 8.5 MB 1.6 MB/s \n",
            "\u001b[?25hCollecting sklearn-crfsuite\n",
            "  Downloading sklearn_crfsuite-0.3.6-py2.py3-none-any.whl (12 kB)\n",
            "Requirement already satisfied: scikit-learn in /usr/local/lib/python3.7/dist-packages (from pyvi) (1.0.1)\n",
            "Requirement already satisfied: joblib>=0.11 in /usr/local/lib/python3.7/dist-packages (from scikit-learn->pyvi) (1.1.0)\n",
            "Requirement already satisfied: threadpoolctl>=2.0.0 in /usr/local/lib/python3.7/dist-packages (from scikit-learn->pyvi) (3.0.0)\n",
            "Requirement already satisfied: scipy>=1.1.0 in /usr/local/lib/python3.7/dist-packages (from scikit-learn->pyvi) (1.4.1)\n",
            "Requirement already satisfied: numpy>=1.14.6 in /usr/local/lib/python3.7/dist-packages (from scikit-learn->pyvi) (1.19.5)\n",
            "Requirement already satisfied: six in /usr/local/lib/python3.7/dist-packages (from sklearn-crfsuite->pyvi) (1.15.0)\n",
            "Requirement already satisfied: tqdm>=2.0 in /usr/local/lib/python3.7/dist-packages (from sklearn-crfsuite->pyvi) (4.62.3)\n",
            "Requirement already satisfied: tabulate in /usr/local/lib/python3.7/dist-packages (from sklearn-crfsuite->pyvi) (0.8.9)\n",
            "Collecting python-crfsuite>=0.8.3\n",
            "  Downloading python_crfsuite-0.9.7-cp37-cp37m-manylinux1_x86_64.whl (743 kB)\n",
            "\u001b[K     |████████████████████████████████| 743 kB 43.9 MB/s \n",
            "\u001b[?25hInstalling collected packages: python-crfsuite, sklearn-crfsuite, pyvi\n",
            "Successfully installed python-crfsuite-0.9.7 pyvi-0.1.1 sklearn-crfsuite-0.3.6\n"
          ]
        }
      ]
    },
    {
      "cell_type": "code",
      "metadata": {
        "colab": {
          "base_uri": "https://localhost:8080/"
        },
        "id": "8uDrjCpBZ9eP",
        "outputId": "e24f8e1e-bb9f-4a7b-93ef-e5a843a2d8f6"
      },
      "source": [
        "from google.colab import drive\n",
        "drive.mount('/content/drive')"
      ],
      "execution_count": 26,
      "outputs": [
        {
          "output_type": "stream",
          "name": "stdout",
          "text": [
            "Mounted at /content/drive\n"
          ]
        }
      ]
    },
    {
      "cell_type": "code",
      "metadata": {
        "colab": {
          "base_uri": "https://localhost:8080/"
        },
        "id": "kvlxke8pU26f",
        "outputId": "3f8bfda9-d202-470c-910a-f1e59acd9aed"
      },
      "source": [
        "# Read embedding\n",
        "word_dict = []\n",
        "embeddings_index = {}\n",
        "embedding_dim = 300\n",
        "max_feature = len(embeddings_index) + 2\n",
        "\n",
        "f = open('drive/MyDrive/public_dataset/uit-vsfc/W2V_ner.vec')\n",
        "for line in f:\n",
        "    values = line.split(' ')\n",
        "    word = values[0] \n",
        "    word_dict.append(word)\n",
        "    try:\n",
        "        coefs = np.asarray(values[1:], dtype='float32')\n",
        "        embeddings_index[word] = coefs\n",
        "    except Exception as e:\n",
        "        pass\n",
        "f.close()\n",
        "\n",
        "print('Embedding data loaded')"
      ],
      "execution_count": 89,
      "outputs": [
        {
          "output_type": "stream",
          "name": "stdout",
          "text": [
            "Embedding data loaded\n"
          ]
        }
      ]
    },
    {
      "cell_type": "code",
      "metadata": {
        "id": "Ga3C8Y-CaTmb"
      },
      "source": [
        "sentence_vectors = []\n",
        "for i in clean_sentences:\n",
        "  if len(i) != 0:\n",
        "    v = sum([embeddings_index.get(w, np.zeros((300,))) for w in i.split()])/(len(i.split())+0.001)\n",
        "  else:\n",
        "    v = np.zeros((300,))\n",
        "  sentence_vectors.append(v)"
      ],
      "execution_count": 90,
      "outputs": []
    },
    {
      "cell_type": "code",
      "metadata": {
        "colab": {
          "base_uri": "https://localhost:8080/"
        },
        "id": "rbfUH7hZaX07",
        "outputId": "272e8628-d31d-42f1-e595-6faa569fd3d7"
      },
      "source": [
        "len(sentence_vectors)"
      ],
      "execution_count": 91,
      "outputs": [
        {
          "output_type": "execute_result",
          "data": {
            "text/plain": [
              "16"
            ]
          },
          "metadata": {},
          "execution_count": 91
        }
      ]
    },
    {
      "cell_type": "markdown",
      "metadata": {
        "id": "O7vFQX0uaW3L"
      },
      "source": [
        ""
      ]
    },
    {
      "cell_type": "markdown",
      "metadata": {
        "id": "Ozr4GRBbaW0b"
      },
      "source": [
        ""
      ]
    },
    {
      "cell_type": "markdown",
      "metadata": {
        "id": "PxkCyv6raWx5"
      },
      "source": [
        ""
      ]
    },
    {
      "cell_type": "markdown",
      "metadata": {
        "id": "XmN8whfBaWvQ"
      },
      "source": [
        ""
      ]
    },
    {
      "cell_type": "markdown",
      "metadata": {
        "id": "8aGQ05B6aWsz"
      },
      "source": [
        ""
      ]
    },
    {
      "cell_type": "markdown",
      "metadata": {
        "id": "1bh9L2pqL3gp"
      },
      "source": [
        "The next step is to find similarities among the sentences. We will use cosine similarity to find similarity between a pair of sentences. Let's create an empty similarity matrix for this task and populate it with cosine similarities of the sentences."
      ]
    },
    {
      "cell_type": "code",
      "metadata": {
        "id": "mm_fNZpOLxbM"
      },
      "source": [
        "# similarity matrix\n",
        "sim_mat = np.zeros([len(sentences[0]), len(sentences[0])])"
      ],
      "execution_count": 92,
      "outputs": []
    },
    {
      "cell_type": "code",
      "metadata": {
        "id": "oVeHkvf0MO1j"
      },
      "source": [
        "from sklearn.metrics.pairwise import cosine_similarity"
      ],
      "execution_count": 93,
      "outputs": []
    },
    {
      "cell_type": "code",
      "metadata": {
        "id": "xTAAe-q3L4xM"
      },
      "source": [
        "for i in range(len(sentences[0])):\n",
        "  for j in range(len(sentences[0])):\n",
        "    if i != j:\n",
        "      sim_mat[i][j] = cosine_similarity(sentence_vectors[i].reshape(1,300), sentence_vectors[j].reshape(1,300))[0,0]"
      ],
      "execution_count": 94,
      "outputs": []
    },
    {
      "cell_type": "code",
      "metadata": {
        "colab": {
          "base_uri": "https://localhost:8080/"
        },
        "id": "CEfQfNEtciE6",
        "outputId": "5f0f4875-973f-486f-909a-58e33e9f18eb"
      },
      "source": [
        "len(sentences[0])"
      ],
      "execution_count": 95,
      "outputs": [
        {
          "output_type": "execute_result",
          "data": {
            "text/plain": [
              "16"
            ]
          },
          "metadata": {},
          "execution_count": 95
        }
      ]
    },
    {
      "cell_type": "code",
      "metadata": {
        "id": "CAQUnNRWL_tA"
      },
      "source": [
        "import networkx as nx\n",
        "\n",
        "nx_graph = nx.from_numpy_array(sim_mat)\n",
        "scores = nx.pagerank(nx_graph)"
      ],
      "execution_count": 96,
      "outputs": []
    },
    {
      "cell_type": "code",
      "metadata": {
        "id": "aQCcvT3yO5Xj"
      },
      "source": [
        "ranked_sentences = sorted(((scores[i],s) for i,s in enumerate(sentences[0])), reverse=True)"
      ],
      "execution_count": 97,
      "outputs": []
    },
    {
      "cell_type": "code",
      "metadata": {
        "id": "jwxtPBlgO_Gk",
        "colab": {
          "base_uri": "https://localhost:8080/"
        },
        "outputId": "c3f4a3a9-dae5-43d9-d696-cf332647d386"
      },
      "source": [
        "# Specify number of sentences to form the summary\n",
        "sn = 1\n",
        "\n",
        "# Generate summary\n",
        "list_result = []\n",
        "str1 = []\n",
        "for i in range(sn):\n",
        "  list_result.append(ranked_sentences[i][1])\n",
        "  str1 = ''.join(str(e) for e in list_result)\n",
        "  print(ranked_sentences[i][1])"
      ],
      "execution_count": 117,
      "outputs": [
        {
          "output_type": "stream",
          "name": "stdout",
          "text": [
            "Vào buổi tối , một bữa tiệc cưới mang tính riêng_tư hơn sẽ diễn ra chỉ dành cho 200 người là bạn_bè thân_thiết và gia_đình của cô_dâu , chú_rể tại Frogmore_House .\n"
          ]
        }
      ]
    },
    {
      "cell_type": "code",
      "metadata": {
        "colab": {
          "base_uri": "https://localhost:8080/",
          "height": 52
        },
        "id": "2q8-eF5mf8RA",
        "outputId": "6c7e6a8d-3f0c-44c9-bef5-b2d0a9dd014a"
      },
      "source": [
        "str1"
      ],
      "execution_count": 118,
      "outputs": [
        {
          "output_type": "execute_result",
          "data": {
            "application/vnd.google.colaboratory.intrinsic+json": {
              "type": "string"
            },
            "text/plain": [
              "'Vào buổi tối , một bữa tiệc cưới mang tính riêng_tư hơn sẽ diễn ra chỉ dành cho 200 người là bạn_bè thân_thiết và gia_đình của cô_dâu , chú_rể tại Frogmore_House .'"
            ]
          },
          "metadata": {},
          "execution_count": 118
        }
      ]
    },
    {
      "cell_type": "code",
      "metadata": {
        "colab": {
          "base_uri": "https://localhost:8080/",
          "height": 35
        },
        "id": "8ymxf_G4feKv",
        "outputId": "017e1dba-d7ca-4f23-8164-5abe0afd429e"
      },
      "source": [
        "train_df.summary[0]"
      ],
      "execution_count": 119,
      "outputs": [
        {
          "output_type": "execute_result",
          "data": {
            "application/vnd.google.colaboratory.intrinsic+json": {
              "type": "string"
            },
            "text/plain": [
              "'Hoàng tử Anh Harry và nữ diễn viên Mỹ Meghan_Markle hôm_nay sẽ nên vợ nên chồng sau gần hai năm hẹn hò . '"
            ]
          },
          "metadata": {},
          "execution_count": 119
        }
      ]
    },
    {
      "cell_type": "code",
      "metadata": {
        "id": "xnktzJBKe53E"
      },
      "source": [
        "!pip install -q rouge-score"
      ],
      "execution_count": 106,
      "outputs": []
    },
    {
      "cell_type": "code",
      "metadata": {
        "id": "6c3PamKUf1WJ"
      },
      "source": [
        "from rouge_score import rouge_scorer\n",
        "\n",
        "scorer = rouge_scorer.RougeScorer(['rouge1', 'rougeL'], use_stemmer=True)\n",
        "scores = scorer.score(str1,\n",
        "                      train_df.summary[0])"
      ],
      "execution_count": 120,
      "outputs": []
    },
    {
      "cell_type": "code",
      "metadata": {
        "colab": {
          "base_uri": "https://localhost:8080/"
        },
        "id": "d151vERkgh64",
        "outputId": "7f1cf7ee-e6a1-46ff-f504-df3606fbd6fb"
      },
      "source": [
        "scores"
      ],
      "execution_count": 121,
      "outputs": [
        {
          "output_type": "execute_result",
          "data": {
            "text/plain": [
              "{'rouge1': Score(precision=0.35294117647058826, recall=0.21818181818181817, fmeasure=0.2696629213483146),\n",
              " 'rougeL': Score(precision=0.2647058823529412, recall=0.16363636363636364, fmeasure=0.20224719101123595)}"
            ]
          },
          "metadata": {},
          "execution_count": 121
        }
      ]
    },
    {
      "cell_type": "code",
      "metadata": {
        "id": "feuN9Cm8gjBa"
      },
      "source": [
        ""
      ],
      "execution_count": null,
      "outputs": []
    }
  ]
}